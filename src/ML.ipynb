{
 "cells": [
  {
   "attachments": {},
   "cell_type": "markdown",
   "metadata": {},
   "source": [
    "# PHASE 3: MODEL TRAINING AND DEPLOYMENT\n",
    "\n",
    "In the second part, students will\n",
    "- complete their data exploration stage \n",
    "  - (the dataset should be completely ready after appropriate cleansing and transformations; \n",
    "  - student is expected to be familiar with all the major patterns and trends in dataset)\n",
    "- construct their model \n",
    "  - (i.e. if it is a regression problem, then students should have their codes ready that are compatible with the dataset; \n",
    "  - if it is a neural network implementation, then students should complete at least one successful training, etc.)\n",
    "- come up with concrete outcomes \n",
    "  - (either their initial hypothesis work and why or “these are the outcomes with this much prediction according to method-x, etc.),\n",
    "- discuss the performance of their model \n",
    "  - (in terms of accuracy and/or confidence levels)\n",
    "- select the best model among alternatives and further tuning the selected model\n",
    "- deployment of the model for predictive analysis.\n",
    "- students are encouraged to develop prediction web apps or dashboards using Streamlit or Dash\n",
    "- elaborate what could be done differently or what can be done next"
   ]
  },
  {
   "attachments": {},
   "cell_type": "markdown",
   "metadata": {},
   "source": [
    "# PLANNING\n",
    "\n",
    "DATA PREP\n",
    "- stratified split \n",
    "\n",
    "ML METHODS\n",
    "- Binary classification\n",
    "- Multiclass classification\n",
    "- KNN?\n",
    "\n",
    "EVALUATION\n",
    "- Confusion Matrix: TP, FP, TN, FN, FP\n",
    "  - Then F1 and other metrics\n",
    "\n",
    "SOURCE\n",
    "- https://www.learndatasci.com/glossary/binary-classification/ "
   ]
  },
  {
   "attachments": {},
   "cell_type": "markdown",
   "metadata": {},
   "source": [
    "# IMPORTS"
   ]
  },
  {
   "cell_type": "code",
   "execution_count": 43,
   "metadata": {},
   "outputs": [],
   "source": [
    "import os\n",
    "import pandas as pd\n",
    "import numpy as np\n",
    "import matplotlib.pyplot as plt\n",
    "import seaborn as sns\n",
    "from sklearn.model_selection import train_test_split\n",
    "from sklearn.preprocessing import StandardScaler\n",
    "from sklearn.linear_model import LogisticRegression\n",
    "from sklearn.metrics import confusion_matrix\n",
    "from sklearn.svm import LinearSVC\n",
    "from sklearn.tree import DecisionTreeClassifier\n",
    "from sklearn.ensemble import RandomForestClassifier\n",
    "from sklearn.naive_bayes import GaussianNB\n",
    "from sklearn.neighbors import KNeighborsClassifier\n",
    "from sklearn.metrics import accuracy_score, precision_score, recall_score, f1_score"
   ]
  },
  {
   "attachments": {},
   "cell_type": "markdown",
   "metadata": {},
   "source": [
    "# SETUP\n",
    "\n",
    "### Import DF \n",
    "- From the CSV file I created in my Phase 2 (EDA) notebook"
   ]
  },
  {
   "cell_type": "code",
   "execution_count": 44,
   "metadata": {},
   "outputs": [
    {
     "name": "stdout",
     "output_type": "stream",
     "text": [
      "file_path = c:\\Users\\GlaDOS\\Documents\\GitHub\\eugene_data606\\output\\oasis_cross-sectional_filtered.csv\n"
     ]
    },
    {
     "data": {
      "text/html": [
       "<div>\n",
       "<style scoped>\n",
       "    .dataframe tbody tr th:only-of-type {\n",
       "        vertical-align: middle;\n",
       "    }\n",
       "\n",
       "    .dataframe tbody tr th {\n",
       "        vertical-align: top;\n",
       "    }\n",
       "\n",
       "    .dataframe thead th {\n",
       "        text-align: right;\n",
       "    }\n",
       "</style>\n",
       "<table border=\"1\" class=\"dataframe\">\n",
       "  <thead>\n",
       "    <tr style=\"text-align: right;\">\n",
       "      <th></th>\n",
       "      <th>M/F</th>\n",
       "      <th>Age</th>\n",
       "      <th>Educ</th>\n",
       "      <th>SES</th>\n",
       "      <th>MMSE</th>\n",
       "      <th>CDR</th>\n",
       "      <th>eTIV</th>\n",
       "      <th>nWBV</th>\n",
       "      <th>ASF</th>\n",
       "    </tr>\n",
       "  </thead>\n",
       "  <tbody>\n",
       "    <tr>\n",
       "      <th>0</th>\n",
       "      <td>F</td>\n",
       "      <td>74</td>\n",
       "      <td>2.0</td>\n",
       "      <td>3.0</td>\n",
       "      <td>29.0</td>\n",
       "      <td>0.0</td>\n",
       "      <td>1344</td>\n",
       "      <td>0.743</td>\n",
       "      <td>1.306</td>\n",
       "    </tr>\n",
       "    <tr>\n",
       "      <th>1</th>\n",
       "      <td>F</td>\n",
       "      <td>55</td>\n",
       "      <td>4.0</td>\n",
       "      <td>1.0</td>\n",
       "      <td>29.0</td>\n",
       "      <td>0.0</td>\n",
       "      <td>1147</td>\n",
       "      <td>0.810</td>\n",
       "      <td>1.531</td>\n",
       "    </tr>\n",
       "    <tr>\n",
       "      <th>2</th>\n",
       "      <td>F</td>\n",
       "      <td>73</td>\n",
       "      <td>4.0</td>\n",
       "      <td>3.0</td>\n",
       "      <td>27.0</td>\n",
       "      <td>0.5</td>\n",
       "      <td>1454</td>\n",
       "      <td>0.708</td>\n",
       "      <td>1.207</td>\n",
       "    </tr>\n",
       "    <tr>\n",
       "      <th>3</th>\n",
       "      <td>M</td>\n",
       "      <td>28</td>\n",
       "      <td>NaN</td>\n",
       "      <td>NaN</td>\n",
       "      <td>NaN</td>\n",
       "      <td>NaN</td>\n",
       "      <td>1588</td>\n",
       "      <td>0.803</td>\n",
       "      <td>1.105</td>\n",
       "    </tr>\n",
       "    <tr>\n",
       "      <th>4</th>\n",
       "      <td>M</td>\n",
       "      <td>18</td>\n",
       "      <td>NaN</td>\n",
       "      <td>NaN</td>\n",
       "      <td>NaN</td>\n",
       "      <td>NaN</td>\n",
       "      <td>1737</td>\n",
       "      <td>0.848</td>\n",
       "      <td>1.010</td>\n",
       "    </tr>\n",
       "  </tbody>\n",
       "</table>\n",
       "</div>"
      ],
      "text/plain": [
       "  M/F  Age  Educ  SES  MMSE  CDR  eTIV   nWBV    ASF\n",
       "0   F   74   2.0  3.0  29.0  0.0  1344  0.743  1.306\n",
       "1   F   55   4.0  1.0  29.0  0.0  1147  0.810  1.531\n",
       "2   F   73   4.0  3.0  27.0  0.5  1454  0.708  1.207\n",
       "3   M   28   NaN  NaN   NaN  NaN  1588  0.803  1.105\n",
       "4   M   18   NaN  NaN   NaN  NaN  1737  0.848  1.010"
      ]
     },
     "execution_count": 44,
     "metadata": {},
     "output_type": "execute_result"
    }
   ],
   "source": [
    "# Get current file path\n",
    "current_path = os.getcwd()\n",
    "parent_file_path = os.path.dirname(current_path)\n",
    "\n",
    "# Construct desired file path\n",
    "file_path = f'{parent_file_path}\\\\output\\\\oasis_cross-sectional_filtered.csv'\n",
    "print('file_path =', file_path)\n",
    "\n",
    "# Read CSV into Pandas, use the file path defined above, set row 0 as the header, and column 0 as the index\n",
    "df = pd.read_csv(\n",
    "    file_path, \n",
    "    header = 0, \n",
    "    index_col = 0)\n",
    "df.head()"
   ]
  },
  {
   "attachments": {},
   "cell_type": "markdown",
   "metadata": {},
   "source": [
    "### Rename columns\n",
    "- Elaborate on the full names according to the metadata descriptions provided"
   ]
  },
  {
   "cell_type": "code",
   "execution_count": 45,
   "metadata": {},
   "outputs": [
    {
     "data": {
      "text/plain": [
       "Index(['M/F', 'Age', 'Educ', 'SES', 'MMSE', 'CDR', 'eTIV', 'nWBV', 'ASF'], dtype='object')"
      ]
     },
     "execution_count": 45,
     "metadata": {},
     "output_type": "execute_result"
    }
   ],
   "source": [
    "# For reference\n",
    "df.columns"
   ]
  },
  {
   "cell_type": "code",
   "execution_count": 46,
   "metadata": {},
   "outputs": [
    {
     "data": {
      "text/html": [
       "<div>\n",
       "<style scoped>\n",
       "    .dataframe tbody tr th:only-of-type {\n",
       "        vertical-align: middle;\n",
       "    }\n",
       "\n",
       "    .dataframe tbody tr th {\n",
       "        vertical-align: top;\n",
       "    }\n",
       "\n",
       "    .dataframe thead th {\n",
       "        text-align: right;\n",
       "    }\n",
       "</style>\n",
       "<table border=\"1\" class=\"dataframe\">\n",
       "  <thead>\n",
       "    <tr style=\"text-align: right;\">\n",
       "      <th></th>\n",
       "      <th>Gender</th>\n",
       "      <th>Age</th>\n",
       "      <th>Education</th>\n",
       "      <th>Socioeconomic Status</th>\n",
       "      <th>Mini-Mental State Examination</th>\n",
       "      <th>Clinical Dementia Rating</th>\n",
       "      <th>Estimated total intracranial volume (mm^3)</th>\n",
       "      <th>Normalized whole brain volume</th>\n",
       "      <th>Atlas scaling factor</th>\n",
       "    </tr>\n",
       "  </thead>\n",
       "  <tbody>\n",
       "    <tr>\n",
       "      <th>0</th>\n",
       "      <td>F</td>\n",
       "      <td>74</td>\n",
       "      <td>2.0</td>\n",
       "      <td>3.0</td>\n",
       "      <td>29.0</td>\n",
       "      <td>0.0</td>\n",
       "      <td>1344</td>\n",
       "      <td>0.743</td>\n",
       "      <td>1.306</td>\n",
       "    </tr>\n",
       "    <tr>\n",
       "      <th>1</th>\n",
       "      <td>F</td>\n",
       "      <td>55</td>\n",
       "      <td>4.0</td>\n",
       "      <td>1.0</td>\n",
       "      <td>29.0</td>\n",
       "      <td>0.0</td>\n",
       "      <td>1147</td>\n",
       "      <td>0.810</td>\n",
       "      <td>1.531</td>\n",
       "    </tr>\n",
       "    <tr>\n",
       "      <th>2</th>\n",
       "      <td>F</td>\n",
       "      <td>73</td>\n",
       "      <td>4.0</td>\n",
       "      <td>3.0</td>\n",
       "      <td>27.0</td>\n",
       "      <td>0.5</td>\n",
       "      <td>1454</td>\n",
       "      <td>0.708</td>\n",
       "      <td>1.207</td>\n",
       "    </tr>\n",
       "    <tr>\n",
       "      <th>3</th>\n",
       "      <td>M</td>\n",
       "      <td>28</td>\n",
       "      <td>NaN</td>\n",
       "      <td>NaN</td>\n",
       "      <td>NaN</td>\n",
       "      <td>NaN</td>\n",
       "      <td>1588</td>\n",
       "      <td>0.803</td>\n",
       "      <td>1.105</td>\n",
       "    </tr>\n",
       "    <tr>\n",
       "      <th>4</th>\n",
       "      <td>M</td>\n",
       "      <td>18</td>\n",
       "      <td>NaN</td>\n",
       "      <td>NaN</td>\n",
       "      <td>NaN</td>\n",
       "      <td>NaN</td>\n",
       "      <td>1737</td>\n",
       "      <td>0.848</td>\n",
       "      <td>1.010</td>\n",
       "    </tr>\n",
       "  </tbody>\n",
       "</table>\n",
       "</div>"
      ],
      "text/plain": [
       "  Gender  Age  Education  Socioeconomic Status  Mini-Mental State Examination  \\\n",
       "0      F   74        2.0                   3.0                           29.0   \n",
       "1      F   55        4.0                   1.0                           29.0   \n",
       "2      F   73        4.0                   3.0                           27.0   \n",
       "3      M   28        NaN                   NaN                            NaN   \n",
       "4      M   18        NaN                   NaN                            NaN   \n",
       "\n",
       "   Clinical Dementia Rating  Estimated total intracranial volume (mm^3)  \\\n",
       "0                       0.0                                        1344   \n",
       "1                       0.0                                        1147   \n",
       "2                       0.5                                        1454   \n",
       "3                       NaN                                        1588   \n",
       "4                       NaN                                        1737   \n",
       "\n",
       "   Normalized whole brain volume  Atlas scaling factor  \n",
       "0                          0.743                 1.306  \n",
       "1                          0.810                 1.531  \n",
       "2                          0.708                 1.207  \n",
       "3                          0.803                 1.105  \n",
       "4                          0.848                 1.010  "
      ]
     },
     "execution_count": 46,
     "metadata": {},
     "output_type": "execute_result"
    }
   ],
   "source": [
    "rename_dict = {\n",
    "    'M/F'    : 'Gender', \n",
    "    'Educ'   : 'Education',\n",
    "    'SES'    : 'Socioeconomic Status',\n",
    "    'MMSE'   : 'Mini-Mental State Examination',\n",
    "    'CDR'    : 'Clinical Dementia Rating',\n",
    "    'eTIV'   : 'Estimated total intracranial volume (mm^3)',\n",
    "    'nWBV'   : 'Normalized whole brain volume',\n",
    "    'ASF'    : 'Atlas scaling factor'}\n",
    "\n",
    "# Rename columns based on provided dictionary\n",
    "df = df.rename(columns = rename_dict)\n",
    "\n",
    "# CHECK\n",
    "df.head()"
   ]
  },
  {
   "attachments": {},
   "cell_type": "markdown",
   "metadata": {},
   "source": [
    "# PREPROCESSING\n",
    "\n",
    "Need to replace the Gender column with dummies"
   ]
  },
  {
   "cell_type": "code",
   "execution_count": 47,
   "metadata": {},
   "outputs": [
    {
     "name": "stdout",
     "output_type": "stream",
     "text": [
      "Gender column has:  2 unique values\n",
      "I expect:           2 (for M/F data)\n"
     ]
    }
   ],
   "source": [
    "# CHECK\n",
    "print(f\"Gender column has:  {df['Gender'].nunique()} unique values\")\n",
    "print(f\"I expect:           2 (for M/F data)\")"
   ]
  },
  {
   "attachments": {},
   "cell_type": "markdown",
   "metadata": {},
   "source": [
    "Replace the Gender column with the dummy version\n",
    "- 0 = female\n",
    "- 1 = male\n",
    "\n",
    "NOTES:\n",
    "- The `Gender` column has been renamed to `Gender_M` and moved to the right side of DF\n",
    "- `drop_first` --> removes the reference column generated by the `get_dummies` command"
   ]
  },
  {
   "cell_type": "code",
   "execution_count": 48,
   "metadata": {},
   "outputs": [
    {
     "data": {
      "text/html": [
       "<div>\n",
       "<style scoped>\n",
       "    .dataframe tbody tr th:only-of-type {\n",
       "        vertical-align: middle;\n",
       "    }\n",
       "\n",
       "    .dataframe tbody tr th {\n",
       "        vertical-align: top;\n",
       "    }\n",
       "\n",
       "    .dataframe thead th {\n",
       "        text-align: right;\n",
       "    }\n",
       "</style>\n",
       "<table border=\"1\" class=\"dataframe\">\n",
       "  <thead>\n",
       "    <tr style=\"text-align: right;\">\n",
       "      <th></th>\n",
       "      <th>Age</th>\n",
       "      <th>Education</th>\n",
       "      <th>Socioeconomic Status</th>\n",
       "      <th>Mini-Mental State Examination</th>\n",
       "      <th>Clinical Dementia Rating</th>\n",
       "      <th>Estimated total intracranial volume (mm^3)</th>\n",
       "      <th>Normalized whole brain volume</th>\n",
       "      <th>Atlas scaling factor</th>\n",
       "      <th>Gender_M</th>\n",
       "    </tr>\n",
       "  </thead>\n",
       "  <tbody>\n",
       "    <tr>\n",
       "      <th>0</th>\n",
       "      <td>74</td>\n",
       "      <td>2.0</td>\n",
       "      <td>3.0</td>\n",
       "      <td>29.0</td>\n",
       "      <td>0.0</td>\n",
       "      <td>1344</td>\n",
       "      <td>0.743</td>\n",
       "      <td>1.306</td>\n",
       "      <td>0</td>\n",
       "    </tr>\n",
       "    <tr>\n",
       "      <th>1</th>\n",
       "      <td>55</td>\n",
       "      <td>4.0</td>\n",
       "      <td>1.0</td>\n",
       "      <td>29.0</td>\n",
       "      <td>0.0</td>\n",
       "      <td>1147</td>\n",
       "      <td>0.810</td>\n",
       "      <td>1.531</td>\n",
       "      <td>0</td>\n",
       "    </tr>\n",
       "    <tr>\n",
       "      <th>2</th>\n",
       "      <td>73</td>\n",
       "      <td>4.0</td>\n",
       "      <td>3.0</td>\n",
       "      <td>27.0</td>\n",
       "      <td>0.5</td>\n",
       "      <td>1454</td>\n",
       "      <td>0.708</td>\n",
       "      <td>1.207</td>\n",
       "      <td>0</td>\n",
       "    </tr>\n",
       "    <tr>\n",
       "      <th>3</th>\n",
       "      <td>28</td>\n",
       "      <td>NaN</td>\n",
       "      <td>NaN</td>\n",
       "      <td>NaN</td>\n",
       "      <td>NaN</td>\n",
       "      <td>1588</td>\n",
       "      <td>0.803</td>\n",
       "      <td>1.105</td>\n",
       "      <td>1</td>\n",
       "    </tr>\n",
       "    <tr>\n",
       "      <th>4</th>\n",
       "      <td>18</td>\n",
       "      <td>NaN</td>\n",
       "      <td>NaN</td>\n",
       "      <td>NaN</td>\n",
       "      <td>NaN</td>\n",
       "      <td>1737</td>\n",
       "      <td>0.848</td>\n",
       "      <td>1.010</td>\n",
       "      <td>1</td>\n",
       "    </tr>\n",
       "    <tr>\n",
       "      <th>...</th>\n",
       "      <td>...</td>\n",
       "      <td>...</td>\n",
       "      <td>...</td>\n",
       "      <td>...</td>\n",
       "      <td>...</td>\n",
       "      <td>...</td>\n",
       "      <td>...</td>\n",
       "      <td>...</td>\n",
       "      <td>...</td>\n",
       "    </tr>\n",
       "    <tr>\n",
       "      <th>431</th>\n",
       "      <td>20</td>\n",
       "      <td>NaN</td>\n",
       "      <td>NaN</td>\n",
       "      <td>NaN</td>\n",
       "      <td>NaN</td>\n",
       "      <td>1469</td>\n",
       "      <td>0.847</td>\n",
       "      <td>1.195</td>\n",
       "      <td>1</td>\n",
       "    </tr>\n",
       "    <tr>\n",
       "      <th>432</th>\n",
       "      <td>22</td>\n",
       "      <td>NaN</td>\n",
       "      <td>NaN</td>\n",
       "      <td>NaN</td>\n",
       "      <td>NaN</td>\n",
       "      <td>1684</td>\n",
       "      <td>0.790</td>\n",
       "      <td>1.042</td>\n",
       "      <td>1</td>\n",
       "    </tr>\n",
       "    <tr>\n",
       "      <th>433</th>\n",
       "      <td>22</td>\n",
       "      <td>NaN</td>\n",
       "      <td>NaN</td>\n",
       "      <td>NaN</td>\n",
       "      <td>NaN</td>\n",
       "      <td>1580</td>\n",
       "      <td>0.856</td>\n",
       "      <td>1.111</td>\n",
       "      <td>1</td>\n",
       "    </tr>\n",
       "    <tr>\n",
       "      <th>434</th>\n",
       "      <td>20</td>\n",
       "      <td>NaN</td>\n",
       "      <td>NaN</td>\n",
       "      <td>NaN</td>\n",
       "      <td>NaN</td>\n",
       "      <td>1262</td>\n",
       "      <td>0.861</td>\n",
       "      <td>1.390</td>\n",
       "      <td>0</td>\n",
       "    </tr>\n",
       "    <tr>\n",
       "      <th>435</th>\n",
       "      <td>26</td>\n",
       "      <td>NaN</td>\n",
       "      <td>NaN</td>\n",
       "      <td>NaN</td>\n",
       "      <td>NaN</td>\n",
       "      <td>1283</td>\n",
       "      <td>0.834</td>\n",
       "      <td>1.368</td>\n",
       "      <td>0</td>\n",
       "    </tr>\n",
       "  </tbody>\n",
       "</table>\n",
       "<p>436 rows × 9 columns</p>\n",
       "</div>"
      ],
      "text/plain": [
       "     Age  Education  Socioeconomic Status  Mini-Mental State Examination  \\\n",
       "0     74        2.0                   3.0                           29.0   \n",
       "1     55        4.0                   1.0                           29.0   \n",
       "2     73        4.0                   3.0                           27.0   \n",
       "3     28        NaN                   NaN                            NaN   \n",
       "4     18        NaN                   NaN                            NaN   \n",
       "..   ...        ...                   ...                            ...   \n",
       "431   20        NaN                   NaN                            NaN   \n",
       "432   22        NaN                   NaN                            NaN   \n",
       "433   22        NaN                   NaN                            NaN   \n",
       "434   20        NaN                   NaN                            NaN   \n",
       "435   26        NaN                   NaN                            NaN   \n",
       "\n",
       "     Clinical Dementia Rating  Estimated total intracranial volume (mm^3)  \\\n",
       "0                         0.0                                        1344   \n",
       "1                         0.0                                        1147   \n",
       "2                         0.5                                        1454   \n",
       "3                         NaN                                        1588   \n",
       "4                         NaN                                        1737   \n",
       "..                        ...                                         ...   \n",
       "431                       NaN                                        1469   \n",
       "432                       NaN                                        1684   \n",
       "433                       NaN                                        1580   \n",
       "434                       NaN                                        1262   \n",
       "435                       NaN                                        1283   \n",
       "\n",
       "     Normalized whole brain volume  Atlas scaling factor  Gender_M  \n",
       "0                            0.743                 1.306         0  \n",
       "1                            0.810                 1.531         0  \n",
       "2                            0.708                 1.207         0  \n",
       "3                            0.803                 1.105         1  \n",
       "4                            0.848                 1.010         1  \n",
       "..                             ...                   ...       ...  \n",
       "431                          0.847                 1.195         1  \n",
       "432                          0.790                 1.042         1  \n",
       "433                          0.856                 1.111         1  \n",
       "434                          0.861                 1.390         0  \n",
       "435                          0.834                 1.368         0  \n",
       "\n",
       "[436 rows x 9 columns]"
      ]
     },
     "execution_count": 48,
     "metadata": {},
     "output_type": "execute_result"
    }
   ],
   "source": [
    "df = pd.get_dummies(\n",
    "    df, \n",
    "    columns = ['Gender'], \n",
    "    drop_first = True)\n",
    "df"
   ]
  },
  {
   "attachments": {},
   "cell_type": "markdown",
   "metadata": {},
   "source": [
    "NOTE: do NOT impute in target column (CDR)\n",
    "- drop NaNs in the target column "
   ]
  },
  {
   "cell_type": "code",
   "execution_count": 49,
   "metadata": {},
   "outputs": [
    {
     "name": "stdout",
     "output_type": "stream",
     "text": [
      "# of unknowns in the CDR column = 201\n",
      "Total length of CDR = 436\n",
      "That is 46% of the CDR column missing\n"
     ]
    }
   ],
   "source": [
    "# CHECK how many unknowns in CDR\n",
    "unknown_count = df['Clinical Dementia Rating'].isna().sum()\n",
    "print(f'# of unknowns in the CDR column = {unknown_count}')\n",
    "print(f'Total length of CDR = {len(df)}')\n",
    "print(f'That is {int(unknown_count/len(df) * 100)}% of the CDR column missing')"
   ]
  },
  {
   "attachments": {},
   "cell_type": "markdown",
   "metadata": {},
   "source": [
    "Move the target column (CDR) to the end for simpler processing later "
   ]
  },
  {
   "cell_type": "code",
   "execution_count": 50,
   "metadata": {},
   "outputs": [
    {
     "name": "stdout",
     "output_type": "stream",
     "text": [
      "Clinical Dementia Rating is now last! PASSED!\n"
     ]
    }
   ],
   "source": [
    "# Define the column I want to move\n",
    "column_name = 'Clinical Dementia Rating'\n",
    "\n",
    "# Remove this column from the original DF\n",
    "last_column = df.pop(column_name)\n",
    "\n",
    "# Insert CDR column back into the DF at the end\n",
    "df.insert(len(df.columns), column_name, last_column)\n",
    "\n",
    "# CHECK - Get the last column name, is CDR last? \n",
    "#df.head(1)\n",
    "if df.columns[-1] == 'Clinical Dementia Rating':\n",
    "    print(f'{df.columns[-1]} is now last! PASSED!')\n",
    "else:\n",
    "    print(f'F for FAILURE!')"
   ]
  },
  {
   "attachments": {},
   "cell_type": "markdown",
   "metadata": {},
   "source": [
    "### Drop missing rows in target column"
   ]
  },
  {
   "cell_type": "code",
   "execution_count": 51,
   "metadata": {},
   "outputs": [
    {
     "name": "stdout",
     "output_type": "stream",
     "text": [
      "old row = 436\n",
      "new rows = 235\n",
      "size shrank -- PASSED!\n"
     ]
    }
   ],
   "source": [
    "# Drop rows with missing values in target column (CDR)\n",
    "old_rows = df.shape[0]\n",
    "df.dropna(subset = ['Clinical Dementia Rating'], inplace = True)\n",
    "new_rows = df.shape[0]\n",
    "\n",
    "# CHECK\n",
    "print(f'old row = {old_rows}')\n",
    "print(f'new rows = {new_rows}')\n",
    "if old_rows > new_rows:\n",
    "    print('size shrank -- PASSED!')\n",
    "else:\n",
    "    print('ERROR!')"
   ]
  },
  {
   "attachments": {},
   "cell_type": "markdown",
   "metadata": {},
   "source": [
    "### Split target column (CDR) into binary groups of non-demented or demented patients"
   ]
  },
  {
   "cell_type": "code",
   "execution_count": 52,
   "metadata": {},
   "outputs": [
    {
     "name": "stdout",
     "output_type": "stream",
     "text": [
      "# of unique values in Clinical Dementia Rating column == 2\n"
     ]
    },
    {
     "data": {
      "text/html": [
       "<div>\n",
       "<style scoped>\n",
       "    .dataframe tbody tr th:only-of-type {\n",
       "        vertical-align: middle;\n",
       "    }\n",
       "\n",
       "    .dataframe tbody tr th {\n",
       "        vertical-align: top;\n",
       "    }\n",
       "\n",
       "    .dataframe thead th {\n",
       "        text-align: right;\n",
       "    }\n",
       "</style>\n",
       "<table border=\"1\" class=\"dataframe\">\n",
       "  <thead>\n",
       "    <tr style=\"text-align: right;\">\n",
       "      <th></th>\n",
       "      <th>Age</th>\n",
       "      <th>Education</th>\n",
       "      <th>Socioeconomic Status</th>\n",
       "      <th>Mini-Mental State Examination</th>\n",
       "      <th>Estimated total intracranial volume (mm^3)</th>\n",
       "      <th>Normalized whole brain volume</th>\n",
       "      <th>Atlas scaling factor</th>\n",
       "      <th>Gender_M</th>\n",
       "      <th>Clinical Dementia Rating</th>\n",
       "    </tr>\n",
       "  </thead>\n",
       "  <tbody>\n",
       "    <tr>\n",
       "      <th>0</th>\n",
       "      <td>74</td>\n",
       "      <td>2.0</td>\n",
       "      <td>3.0</td>\n",
       "      <td>29.0</td>\n",
       "      <td>1344</td>\n",
       "      <td>0.743</td>\n",
       "      <td>1.306</td>\n",
       "      <td>0</td>\n",
       "      <td>non-demented</td>\n",
       "    </tr>\n",
       "    <tr>\n",
       "      <th>1</th>\n",
       "      <td>55</td>\n",
       "      <td>4.0</td>\n",
       "      <td>1.0</td>\n",
       "      <td>29.0</td>\n",
       "      <td>1147</td>\n",
       "      <td>0.810</td>\n",
       "      <td>1.531</td>\n",
       "      <td>0</td>\n",
       "      <td>non-demented</td>\n",
       "    </tr>\n",
       "    <tr>\n",
       "      <th>2</th>\n",
       "      <td>73</td>\n",
       "      <td>4.0</td>\n",
       "      <td>3.0</td>\n",
       "      <td>27.0</td>\n",
       "      <td>1454</td>\n",
       "      <td>0.708</td>\n",
       "      <td>1.207</td>\n",
       "      <td>0</td>\n",
       "      <td>demented</td>\n",
       "    </tr>\n",
       "    <tr>\n",
       "      <th>8</th>\n",
       "      <td>74</td>\n",
       "      <td>5.0</td>\n",
       "      <td>2.0</td>\n",
       "      <td>30.0</td>\n",
       "      <td>1636</td>\n",
       "      <td>0.689</td>\n",
       "      <td>1.073</td>\n",
       "      <td>1</td>\n",
       "      <td>non-demented</td>\n",
       "    </tr>\n",
       "    <tr>\n",
       "      <th>9</th>\n",
       "      <td>52</td>\n",
       "      <td>3.0</td>\n",
       "      <td>2.0</td>\n",
       "      <td>30.0</td>\n",
       "      <td>1321</td>\n",
       "      <td>0.827</td>\n",
       "      <td>1.329</td>\n",
       "      <td>0</td>\n",
       "      <td>non-demented</td>\n",
       "    </tr>\n",
       "  </tbody>\n",
       "</table>\n",
       "</div>"
      ],
      "text/plain": [
       "   Age  Education  Socioeconomic Status  Mini-Mental State Examination  \\\n",
       "0   74        2.0                   3.0                           29.0   \n",
       "1   55        4.0                   1.0                           29.0   \n",
       "2   73        4.0                   3.0                           27.0   \n",
       "8   74        5.0                   2.0                           30.0   \n",
       "9   52        3.0                   2.0                           30.0   \n",
       "\n",
       "   Estimated total intracranial volume (mm^3)  Normalized whole brain volume  \\\n",
       "0                                        1344                          0.743   \n",
       "1                                        1147                          0.810   \n",
       "2                                        1454                          0.708   \n",
       "8                                        1636                          0.689   \n",
       "9                                        1321                          0.827   \n",
       "\n",
       "   Atlas scaling factor  Gender_M Clinical Dementia Rating  \n",
       "0                 1.306         0             non-demented  \n",
       "1                 1.531         0             non-demented  \n",
       "2                 1.207         0                 demented  \n",
       "8                 1.073         1             non-demented  \n",
       "9                 1.329         0             non-demented  "
      ]
     },
     "execution_count": 52,
     "metadata": {},
     "output_type": "execute_result"
    }
   ],
   "source": [
    "# Set bin borders for integer to categorical conversion\n",
    "bins = [0, 0.1, np.inf]\n",
    "\n",
    "# Rename the CDR column into 2 groups based on # value for: demented and non-demented (see metadata)\n",
    "df['Clinical Dementia Rating'] = df['Clinical Dementia Rating'].apply(\n",
    "    lambda x: 'non-demented' if x == 0.0 else (\n",
    "        'demented' if x == 0.5 else(\n",
    "            'demented' if x == 1 else(\n",
    "                'demented' if x == 2 else 'unknown'))))\n",
    "\n",
    "# CHECK - need to make sure that the lambda function split up CDR correctly\n",
    "if df['Clinical Dementia Rating'].nunique() == 2:\n",
    "    print(f\"# of unique values in Clinical Dementia Rating column == {df['Clinical Dementia Rating'].nunique()}\")\n",
    "else:\n",
    "    print(f'ERROR! # of unique values in Clinical Dementia Rating column =/= 2')\n",
    "df.head()"
   ]
  },
  {
   "attachments": {},
   "cell_type": "markdown",
   "metadata": {},
   "source": [
    "# [1] DEFINE DATA AND TARGET VARIABLES\n",
    "\n",
    "First, get the column names as a list\n",
    "\n",
    "Then, pick the data columns and the target columns to use"
   ]
  },
  {
   "cell_type": "code",
   "execution_count": 53,
   "metadata": {},
   "outputs": [
    {
     "name": "stdout",
     "output_type": "stream",
     "text": [
      "type(data_column_list) = <class 'list'>\n",
      "data_column_list = ['Age', 'Education', 'Socioeconomic Status', 'Mini-Mental State Examination', 'Estimated total intracranial volume (mm^3)', 'Normalized whole brain volume', 'Atlas scaling factor', 'Gender_M']\n",
      "target_column_list = ['Clinical Dementia Rating']\n"
     ]
    }
   ],
   "source": [
    "# All columns besides the target column (CDR) will be used as the explanatory data columns\n",
    "# Convert header names to a list\n",
    "data_column_list = df.columns[df.columns != 'Clinical Dementia Rating'].tolist()\n",
    "target_column_list = ['Clinical Dementia Rating']\n",
    "\n",
    "# CHECK\n",
    "print('type(data_column_list) =', type(data_column_list))\n",
    "print('data_column_list =', data_column_list )\n",
    "print('target_column_list =', target_column_list)"
   ]
  },
  {
   "attachments": {},
   "cell_type": "markdown",
   "metadata": {},
   "source": [
    "Split the DF up based on the predefined lists for data and target columns"
   ]
  },
  {
   "cell_type": "code",
   "execution_count": 54,
   "metadata": {},
   "outputs": [
    {
     "name": "stdout",
     "output_type": "stream",
     "text": [
      "X.shape = (235, 8)\n",
      "y.shape = (235, 1)\n"
     ]
    }
   ],
   "source": [
    "# X for data columns, y for target column\n",
    "X = df[data_column_list]\n",
    "y = df[target_column_list]\n",
    "\n",
    "# CHECK\n",
    "print('X.shape =', X.shape)\n",
    "print('y.shape =', y.shape)"
   ]
  },
  {
   "attachments": {},
   "cell_type": "markdown",
   "metadata": {},
   "source": [
    "# [2] STRATIFIED TRAIN/TEST SPLIT\n",
    "\n",
    "- X = 8 data columns \n",
    "- y = 1 target column\n",
    "- test_size = 20% for testing (model evaluation) \n",
    "  - The training data is quite small after processing, only ~200 rows, so I wanted to reserve as much as possible (80%) for training\n",
    "  - This leaves just 20% to test, but it should improve the accuracy of the predictions\n",
    "- stratify = keep the same ratios of outcomes the same between training/testing groups\n",
    "- random_state = for reproducibility\n",
    "  - TODO - somewhere else might be changing this..."
   ]
  },
  {
   "cell_type": "code",
   "execution_count": 55,
   "metadata": {},
   "outputs": [
    {
     "name": "stdout",
     "output_type": "stream",
     "text": [
      "X_test.shape: (47, 8)\n",
      "X_train.shape: (188, 8)\n",
      "y_test.shape: (47, 1)\n",
      "y_train.shape: (188, 1)\n"
     ]
    }
   ],
   "source": [
    "X_train, X_test, y_train, y_test = train_test_split(\n",
    "    X, \n",
    "    y, \n",
    "    test_size = 0.20,\n",
    "    stratify = y,\n",
    "    random_state = 1\n",
    ")\n",
    "\n",
    "# Collect all resulting datasets into 1 dictionary for simpler iterating later\n",
    "all_dfs_dict = {\n",
    "    'X_test'    : X_test,\n",
    "    'X_train'   : X_train,\n",
    "    'y_test'    : y_test,\n",
    "    'y_train'   : y_train\n",
    "}\n",
    "\n",
    "# Loop through the dictionary and print name: shape\n",
    "for key, value in all_dfs_dict.items():\n",
    "    print(f'{key}.shape: {value.shape}')"
   ]
  },
  {
   "attachments": {},
   "cell_type": "markdown",
   "metadata": {},
   "source": [
    "# [3] IMPUTE + NORMALIZE DATA\n",
    "\n",
    "Q) What order should I do this in?\n",
    "\n",
    "A) Probably impute 1st, then scale\n",
    "- See: https://datascience.stackexchange.com/questions/53138/which-comes-first-multiple-imputation-splitting-into-train-test-or-standardiz\n",
    "\n",
    "### Impute missing data\n",
    "- IMPORTANT!!! --> run imputation AFTER train/test splitting on each individual dataset\n",
    "- METHOD: use median\n",
    "  - most of these columns started as multi-class labels, can't use mean for those\n",
    "  - EDA shows distributions are very skewed, so median is more appropriate over using mean\n",
    "\n",
    "Start by looking for any remaining nulls in each DF"
   ]
  },
  {
   "cell_type": "code",
   "execution_count": 56,
   "metadata": {},
   "outputs": [
    {
     "name": "stdout",
     "output_type": "stream",
     "text": [
      "numerical list of X_test = ['Age', 'Education', 'Socioeconomic Status', 'Mini-Mental State Examination', 'Estimated total intracranial volume (mm^3)', 'Normalized whole brain volume', 'Atlas scaling factor', 'Gender_M']\n",
      "X_test has nulls in:\n",
      "Socioeconomic Status    7\n",
      "dtype: int64\n",
      "~~~~~~~~~~~~~~~~~~~~~~~~~~~~~~~~~~\n",
      "numerical list of X_train = ['Age', 'Education', 'Socioeconomic Status', 'Mini-Mental State Examination', 'Estimated total intracranial volume (mm^3)', 'Normalized whole brain volume', 'Atlas scaling factor', 'Gender_M']\n",
      "X_train has nulls in:\n",
      "Socioeconomic Status    12\n",
      "dtype: int64\n",
      "~~~~~~~~~~~~~~~~~~~~~~~~~~~~~~~~~~\n",
      "numerical list of y_test = []\n",
      "~~~~~~~~~~~~~~~~~~~~~~~~~~~~~~~~~~\n",
      "numerical list of y_train = []\n",
      "~~~~~~~~~~~~~~~~~~~~~~~~~~~~~~~~~~\n"
     ]
    }
   ],
   "source": [
    "# Iterate thru every DF\n",
    "for key, value in all_dfs_dict.items():\n",
    "    #print(f'{value}')\n",
    "    \n",
    "    # Save a list of numerical (float/int) type columns\n",
    "    numerical_list = value.select_dtypes(include = 'number').columns.tolist()\n",
    "    print(f'numerical list of {key} =', numerical_list)\n",
    "    \n",
    "    # Sum up nulls in each DF\n",
    "    nulls_before = value.isnull().sum()\n",
    "    #print(nulls_before)\n",
    "    \n",
    "    # Iterate thru every row of resulting nulls counts\n",
    "    for row in nulls_before:\n",
    "        \n",
    "        # CASE #1: are any of the null counts > 0?\n",
    "        if row > 0:\n",
    "            \n",
    "            # Print name of DF and name of column\n",
    "            print(f'{key} has nulls in:')\n",
    "            print(nulls_before[nulls_before > 0])\n",
    "            \n",
    "            # CHECK numerical list???\n",
    "        \n",
    "    print('~~~~~~~~~~~~~~~~~~~~~~~~~~~~~~~~~~')"
   ]
  },
  {
   "attachments": {},
   "cell_type": "markdown",
   "metadata": {},
   "source": [
    "Impute missing numerical values:\n",
    "- run thru each DF\n",
    "- only use columns on the numerical list\n",
    "  - CDR is categorical, so already excluded"
   ]
  },
  {
   "cell_type": "code",
   "execution_count": 57,
   "metadata": {},
   "outputs": [
    {
     "name": "stdout",
     "output_type": "stream",
     "text": [
      "X_test numerical list = ['Age', 'Education', 'Socioeconomic Status', 'Mini-Mental State Examination', 'Estimated total intracranial volume (mm^3)', 'Normalized whole brain volume', 'Atlas scaling factor', 'Gender_M']\n",
      "~~~~~~~~~~~~~~~~~~~~~~~~~~~~~~~~~~~~~~~~~~~~~~~~~\n",
      "X_test nulls_before =\n",
      " Age                                           0\n",
      "Education                                     0\n",
      "Socioeconomic Status                          7\n",
      "Mini-Mental State Examination                 0\n",
      "Estimated total intracranial volume (mm^3)    0\n",
      "Normalized whole brain volume                 0\n",
      "Atlas scaling factor                          0\n",
      "Gender_M                                      0\n",
      "dtype: int64\n",
      "~~~~~~~~~~~~~~~~~~~~~~~~~~~~~~~~~~~~~~~~~~~~~~~~~\n",
      "X_test nulls_after =\n",
      " Age                                           0\n",
      "Education                                     0\n",
      "Socioeconomic Status                          0\n",
      "Mini-Mental State Examination                 0\n",
      "Estimated total intracranial volume (mm^3)    0\n",
      "Normalized whole brain volume                 0\n",
      "Atlas scaling factor                          0\n",
      "Gender_M                                      0\n",
      "dtype: int64\n",
      "~~~~~~~~~~~~~~~~~~~~~~~~~~~~~~~~~~~~~~~~~~~~~~~~~\n",
      "X_train numerical list = ['Age', 'Education', 'Socioeconomic Status', 'Mini-Mental State Examination', 'Estimated total intracranial volume (mm^3)', 'Normalized whole brain volume', 'Atlas scaling factor', 'Gender_M']\n",
      "~~~~~~~~~~~~~~~~~~~~~~~~~~~~~~~~~~~~~~~~~~~~~~~~~\n",
      "X_train nulls_before =\n",
      " Age                                            0\n",
      "Education                                      0\n",
      "Socioeconomic Status                          12\n",
      "Mini-Mental State Examination                  0\n",
      "Estimated total intracranial volume (mm^3)     0\n",
      "Normalized whole brain volume                  0\n",
      "Atlas scaling factor                           0\n",
      "Gender_M                                       0\n",
      "dtype: int64\n",
      "~~~~~~~~~~~~~~~~~~~~~~~~~~~~~~~~~~~~~~~~~~~~~~~~~\n",
      "X_train nulls_after =\n",
      " Age                                           0\n",
      "Education                                     0\n",
      "Socioeconomic Status                          0\n",
      "Mini-Mental State Examination                 0\n",
      "Estimated total intracranial volume (mm^3)    0\n",
      "Normalized whole brain volume                 0\n",
      "Atlas scaling factor                          0\n",
      "Gender_M                                      0\n",
      "dtype: int64\n",
      "~~~~~~~~~~~~~~~~~~~~~~~~~~~~~~~~~~~~~~~~~~~~~~~~~\n",
      "y_test numerical list = []\n",
      "~~~~~~~~~~~~~~~~~~~~~~~~~~~~~~~~~~~~~~~~~~~~~~~~~\n",
      "y_test nulls_before =\n",
      " Clinical Dementia Rating    0\n",
      "dtype: int64\n",
      "~~~~~~~~~~~~~~~~~~~~~~~~~~~~~~~~~~~~~~~~~~~~~~~~~\n",
      "y_test nulls_after =\n",
      " Clinical Dementia Rating    0\n",
      "dtype: int64\n",
      "~~~~~~~~~~~~~~~~~~~~~~~~~~~~~~~~~~~~~~~~~~~~~~~~~\n",
      "y_train numerical list = []\n",
      "~~~~~~~~~~~~~~~~~~~~~~~~~~~~~~~~~~~~~~~~~~~~~~~~~\n",
      "y_train nulls_before =\n",
      " Clinical Dementia Rating    0\n",
      "dtype: int64\n",
      "~~~~~~~~~~~~~~~~~~~~~~~~~~~~~~~~~~~~~~~~~~~~~~~~~\n",
      "y_train nulls_after =\n",
      " Clinical Dementia Rating    0\n",
      "dtype: int64\n",
      "~~~~~~~~~~~~~~~~~~~~~~~~~~~~~~~~~~~~~~~~~~~~~~~~~\n"
     ]
    }
   ],
   "source": [
    "# Iterate thru all DFs in the dictionary\n",
    "for key, value in all_dfs_dict.items():\n",
    "    \n",
    "    # CHECK - before \n",
    "    nulls_before = value.isnull().sum()\n",
    "\n",
    "    # Save a list of numerical (float/int) type columns\n",
    "    numerical_list = value.select_dtypes(include = 'number').columns.tolist()\n",
    "    print(f'{key} numerical list =', numerical_list)\n",
    "    print('~~~~~~~~~~~~~~~~~~~~~~~~~~~~~~~~~~~~~~~~~~~~~~~~~')\n",
    "\n",
    "    # Impute median values in every numerical column\n",
    "    for column in numerical_list:\n",
    "        median = value[column].median()\n",
    "        value[column].fillna(median, inplace = True)\n",
    "        \n",
    "    # CHECK - after\n",
    "    nulls_after = value.isnull().sum()\n",
    "\n",
    "    #* TODO - could try to have it check before and after \n",
    "    #! ERROR - ValueError: The truth value of a Series is ambiguous. Use a.empty, a.bool(), a.item(), a.any() or a.all()\n",
    "    \n",
    "    # if nulls_before == nulls_after:\n",
    "    #     continue\n",
    "    # else:\n",
    "        \n",
    "    # Print the before and after sum of null values\n",
    "    print(f'{key} nulls_before =\\n', nulls_before)\n",
    "    print('~~~~~~~~~~~~~~~~~~~~~~~~~~~~~~~~~~~~~~~~~~~~~~~~~')\n",
    "    print(f'{key} nulls_after =\\n', nulls_after)\n",
    "    print('~~~~~~~~~~~~~~~~~~~~~~~~~~~~~~~~~~~~~~~~~~~~~~~~~')"
   ]
  },
  {
   "attachments": {},
   "cell_type": "markdown",
   "metadata": {},
   "source": [
    "### Normalize data\n",
    "\n",
    "Q) When should I normalize?\n",
    "\n",
    "A) When:\n",
    "- distribution is not normal --> yes\n",
    "- magnitudes are very different --> yes\n",
    "- test and find out before/after\n",
    "\n",
    "# TODO\n",
    "### WARNING!\n",
    "- exclude these columns from min/max scaling:\n",
    "  - target (CDR)\n",
    "  - dummies (Gender_M)\n",
    "- You should only scale CONTINUOUS # col's\n",
    "  - Mine mostly AREN'T continuous...\n",
    "  - They are discrete groups, really multi-class labels\n",
    "\n",
    "Q) Which are continuous numeric columns?\n",
    "\n",
    "A) These columns are:\n",
    "- Age\n",
    "- MMSE???\n",
    "- eTIV???\n",
    "- nWBV???\n",
    "- ASF???\n",
    "\n",
    "Q) Which are discrete numeric columns?\n",
    "\n",
    "A) These are discrete:\n",
    "- Educ\n",
    "- SES\n",
    "- Gender???\n",
    "\n",
    "Maybe I should use ColumnTransformer instead:\n",
    "- See: https://machinelearningmastery.com/columntransformer-for-numerical-and-categorical-data/"
   ]
  },
  {
   "cell_type": "code",
   "execution_count": 58,
   "metadata": {},
   "outputs": [],
   "source": [
    "# Apply Standard Scaler\n",
    "# IMPORTANT!! -- do the train/test datasets SEPARATELY!!\n",
    "\n",
    "ss_train = StandardScaler()\n",
    "X_train = ss_train.fit_transform(X_train)\n",
    "\n",
    "ss_test = StandardScaler()\n",
    "X_test = ss_test.fit_transform(X_test)   "
   ]
  },
  {
   "attachments": {},
   "cell_type": "markdown",
   "metadata": {},
   "source": [
    "# [4] FIT DATA\n",
    "- SOURCE: https://www.freecodecamp.org/news/how-to-build-and-train-linear-and-logistic-regression-ml-models-in-python/#:~:text=Training%20the%20Logistic%20Regression%20Model"
   ]
  },
  {
   "attachments": {},
   "cell_type": "markdown",
   "metadata": {},
   "source": [
    "### Convert both the y columns into a 1D array\n",
    "- Necessary to fix training error regarding the dimensions expected of the y input"
   ]
  },
  {
   "cell_type": "code",
   "execution_count": 59,
   "metadata": {},
   "outputs": [
    {
     "name": "stdout",
     "output_type": "stream",
     "text": [
      "type(y_train) = <class 'pandas.core.frame.DataFrame'>\n",
      "type(y_test) = <class 'pandas.core.frame.DataFrame'>\n"
     ]
    }
   ],
   "source": [
    "# CHECK - current y column type\n",
    "print('type(y_train) =', type(y_train))\n",
    "print('type(y_test) =', type(y_test))"
   ]
  },
  {
   "cell_type": "code",
   "execution_count": 60,
   "metadata": {},
   "outputs": [
    {
     "name": "stdout",
     "output_type": "stream",
     "text": [
      "type(y_test) = <class 'numpy.ndarray'>\n",
      "type(y_train) = <class 'numpy.ndarray'>\n"
     ]
    }
   ],
   "source": [
    "# Convert the y column into a 1D array\n",
    "y_train = np.ravel(y_train)\n",
    "y_test = np.ravel(y_test)\n",
    "\n",
    "# CHECK - conversion results\n",
    "print('type(y_test) =', type(y_test))\n",
    "print('type(y_train) =', type(y_train))"
   ]
  },
  {
   "cell_type": "code",
   "execution_count": 61,
   "metadata": {},
   "outputs": [
    {
     "data": {
      "text/plain": [
       "LogisticRegression()"
      ]
     },
     "execution_count": 61,
     "metadata": {},
     "output_type": "execute_result"
    }
   ],
   "source": [
    "# Create an instance of Logistic Regression\n",
    "model = LogisticRegression()\n",
    "\n",
    "# Train the model using my training datasets\n",
    "# Fit to the Logistic Regression model\n",
    "model.fit(X_train, y_train)"
   ]
  },
  {
   "attachments": {},
   "cell_type": "markdown",
   "metadata": {},
   "source": [
    "# ERRORS -- if you don't scale\n",
    "\n",
    "c:\\tools\\Anaconda3\\envs\\data601-intro_to_DS_20220604\\lib\\site-packages\\sklearn\\utils\\validation.py:993: DataConversionWarning: A column-vector y was passed when a 1d array was expected. Please change the shape of y to (n_samples, ), for example using ravel().\n",
    "\n",
    "    y = column_or_1d(y, warn=True)\n",
    "  \n",
    "c:\\tools\\Anaconda3\\envs\\data601-intro_to_DS_20220604\\lib\\site-packages\\sklearn\\linear_model\\_logistic.py:814: ConvergenceWarning: lbfgs failed to converge (status=1):\n",
    "\n",
    "STOP: TOTAL NO. of ITERATIONS REACHED LIMIT.\n",
    "\n",
    "Increase the number of iterations (max_iter) or scale the data as shown in:\n",
    "    \n",
    "    https://scikit-learn.org/stable/modules/preprocessing.html\n",
    "    \n",
    "Please also refer to the documentation for alternative solver options:\n",
    "    \n",
    "    https://scikit-learn.org/stable/modules/linear_model.html#logistic-regression\n",
    "    \n",
    "  n_iter_i = _check_optimize_result("
   ]
  },
  {
   "attachments": {},
   "cell_type": "markdown",
   "metadata": {},
   "source": [
    "# [5] PREDICTIONS\n",
    "\n",
    "Now that training is done, check the predictions by using the testing data (the 20% that was reserved during the train/test split)"
   ]
  },
  {
   "cell_type": "code",
   "execution_count": 62,
   "metadata": {},
   "outputs": [],
   "source": [
    "# Check prediction accuracy against the test data\n",
    "predictions = model.predict(X_test)"
   ]
  },
  {
   "attachments": {},
   "cell_type": "markdown",
   "metadata": {},
   "source": [
    "### Setup a Confusion Matrix to evaluate prediction accuracy"
   ]
  },
  {
   "cell_type": "code",
   "execution_count": 63,
   "metadata": {},
   "outputs": [
    {
     "name": "stdout",
     "output_type": "stream",
     "text": [
      "True Negative (TN) = 15\n",
      "False Positive (FP) = 5\n",
      "False Negative (FN) = 3\n",
      "True Positive (TP) = 24\n"
     ]
    }
   ],
   "source": [
    "cm = confusion_matrix(y_test, predictions)\n",
    "\n",
    "# Save the T/F Positives/Negatives into variables \n",
    "TN, FP, FN, TP = confusion_matrix(y_test, predictions).ravel()\n",
    "\n",
    "# Save the result variables to a dictionary\n",
    "all_TF_pos_neg_results = {\n",
    "    'True Negative (TN)'    : TN, \n",
    "    'False Positive (FP)'   : FP, \n",
    "    'False Negative (FN)'   : FN, \n",
    "    'True Positive (TP)'    : TP\n",
    "}\n",
    "\n",
    "# Iterate thru dictionary to print all results\n",
    "for key, value in all_TF_pos_neg_results.items():\n",
    "    print(f'{key} = {value}')"
   ]
  },
  {
   "attachments": {},
   "cell_type": "markdown",
   "metadata": {},
   "source": [
    "### Calculate accuracy\n",
    "- FORMULA = \n",
    "\n",
    "    `(TP + TN) / (TP + FP + TN + FN)`"
   ]
  },
  {
   "cell_type": "code",
   "execution_count": 64,
   "metadata": {},
   "outputs": [
    {
     "name": "stdout",
     "output_type": "stream",
     "text": [
      "Accuracy of the binary classifier = 83%\n"
     ]
    }
   ],
   "source": [
    "accuracy =  (TP + TN) / (TP + FP + TN + FN)\n",
    "\n",
    "# Convert to a percentage\n",
    "# Drop extra digits beyond the decimal point\n",
    "print(f'Accuracy of the binary classifier = {accuracy * 100:.0f}%')"
   ]
  },
  {
   "attachments": {},
   "cell_type": "markdown",
   "metadata": {},
   "source": [
    "### Repeat this for other binary classifiers"
   ]
  },
  {
   "cell_type": "code",
   "execution_count": 65,
   "metadata": {},
   "outputs": [
    {
     "name": "stdout",
     "output_type": "stream",
     "text": [
      "models =\n",
      " {'Decision Trees': DecisionTreeClassifier(), 'Naive Bayes': GaussianNB(), 'K-Nearest Neighbor': KNeighborsClassifier(), 'Support Vector Machines': LinearSVC(), 'Logistic Regression': LogisticRegression(), 'Random Forest': RandomForestClassifier()}\n"
     ]
    }
   ],
   "source": [
    "# Save multiple models into a dictionary\n",
    "models = {}\n",
    "\n",
    "# Decision Trees\n",
    "models['Decision Trees'] = DecisionTreeClassifier()\n",
    "\n",
    "# K-Nearest Neighbors\n",
    "models['K-Nearest Neighbor'] = KNeighborsClassifier()\n",
    "\n",
    "# Logistic Regression\n",
    "models['Logistic Regression'] = LogisticRegression()\n",
    "\n",
    "# Naive Bayes\n",
    "models['Naive Bayes'] = GaussianNB()\n",
    "\n",
    "# Random Forest\n",
    "models['Random Forest'] = RandomForestClassifier()\n",
    "\n",
    "# Support Vector Machines\n",
    "models['Support Vector Machines'] = LinearSVC()\n",
    "\n",
    "# CHECK - dictionary contents\n",
    "print('models =\\n', models)"
   ]
  },
  {
   "attachments": {},
   "cell_type": "markdown",
   "metadata": {},
   "source": [
    "### Run accuracy, precision, recall, and F1 stats on all models\n",
    "\n",
    "- WARNING! Must set the `pos_label` \n",
    "\n",
    "### TODO: add these formulas too\n"
   ]
  },
  {
   "cell_type": "code",
   "execution_count": 66,
   "metadata": {},
   "outputs": [],
   "source": [
    "#* TODO - add F1 score\n",
    "\n",
    "# Setup empty dictionaries to save the results to later\n",
    "accuracy, precision, recall, f1_dict = {}, {}, {}, {}\n",
    "\n",
    "# Iterate thru every key (model) stored in the models dictionary\n",
    "for key in models.keys():\n",
    "    \n",
    "    # Fit the classifier\n",
    "    models[key].fit(X_train, y_train)\n",
    "    \n",
    "    # Make predictions\n",
    "    predictions = models[key].predict(X_test)\n",
    "    \n",
    "    # Calculate each metric \n",
    "    accuracy[key]   = accuracy_score(predictions, y_test)\n",
    "    precision[key]  = precision_score(predictions, y_test, pos_label = 'demented')\n",
    "    recall[key]     = recall_score(predictions, y_test, pos_label = 'demented')\n",
    "    f1_dict[key]    = f1_score(predictions, y_test, pos_label = 'demented')"
   ]
  },
  {
   "attachments": {},
   "cell_type": "markdown",
   "metadata": {},
   "source": [
    "### Output all the stats in a table"
   ]
  },
  {
   "cell_type": "code",
   "execution_count": 71,
   "metadata": {},
   "outputs": [],
   "source": [
    "#* TODO - convert the values into 100%?\n",
    "\n",
    "# Create a DF based on the accuracy, precision and recall dictionaries\n",
    "df_model = pd.DataFrame(\n",
    "    index = models.keys(), \n",
    "    columns = [\n",
    "        'Accuracy', \n",
    "        'Precision', \n",
    "        'Recall'])\n",
    "\n",
    "# Populate the columns with the results of each stat\n",
    "df_model['Accuracy']    = accuracy.values()\n",
    "df_model['Precision']   = precision.values()\n",
    "df_model['Recall']      = recall.values()\n",
    "df_model['F1']          = f1_dict.values()\n",
    "\n",
    "# Print DF\n",
    "#df_model"
   ]
  },
  {
   "cell_type": "code",
   "execution_count": 68,
   "metadata": {},
   "outputs": [
    {
     "data": {
      "text/html": [
       "<div>\n",
       "<style scoped>\n",
       "    .dataframe tbody tr th:only-of-type {\n",
       "        vertical-align: middle;\n",
       "    }\n",
       "\n",
       "    .dataframe tbody tr th {\n",
       "        vertical-align: top;\n",
       "    }\n",
       "\n",
       "    .dataframe thead th {\n",
       "        text-align: right;\n",
       "    }\n",
       "</style>\n",
       "<table border=\"1\" class=\"dataframe\">\n",
       "  <thead>\n",
       "    <tr style=\"text-align: right;\">\n",
       "      <th></th>\n",
       "      <th>Accuracy</th>\n",
       "      <th>Precision</th>\n",
       "      <th>Recall</th>\n",
       "      <th>F1</th>\n",
       "    </tr>\n",
       "  </thead>\n",
       "  <tbody>\n",
       "    <tr>\n",
       "      <th>Support Vector Machines</th>\n",
       "      <td>0.829787</td>\n",
       "      <td>0.75</td>\n",
       "      <td>0.833333</td>\n",
       "      <td>0.789474</td>\n",
       "    </tr>\n",
       "    <tr>\n",
       "      <th>Logistic Regression</th>\n",
       "      <td>0.829787</td>\n",
       "      <td>0.75</td>\n",
       "      <td>0.833333</td>\n",
       "      <td>0.789474</td>\n",
       "    </tr>\n",
       "    <tr>\n",
       "      <th>Decision Trees</th>\n",
       "      <td>0.808511</td>\n",
       "      <td>0.75</td>\n",
       "      <td>0.789474</td>\n",
       "      <td>0.769231</td>\n",
       "    </tr>\n",
       "    <tr>\n",
       "      <th>Naive Bayes</th>\n",
       "      <td>0.808511</td>\n",
       "      <td>0.75</td>\n",
       "      <td>0.789474</td>\n",
       "      <td>0.769231</td>\n",
       "    </tr>\n",
       "    <tr>\n",
       "      <th>Random Forest</th>\n",
       "      <td>0.808511</td>\n",
       "      <td>0.80</td>\n",
       "      <td>0.761905</td>\n",
       "      <td>0.780488</td>\n",
       "    </tr>\n",
       "    <tr>\n",
       "      <th>K-Nearest Neighbor</th>\n",
       "      <td>0.723404</td>\n",
       "      <td>0.65</td>\n",
       "      <td>0.684211</td>\n",
       "      <td>0.666667</td>\n",
       "    </tr>\n",
       "  </tbody>\n",
       "</table>\n",
       "</div>"
      ],
      "text/plain": [
       "                         Accuracy  Precision    Recall        F1\n",
       "Support Vector Machines  0.829787       0.75  0.833333  0.789474\n",
       "Logistic Regression      0.829787       0.75  0.833333  0.789474\n",
       "Decision Trees           0.808511       0.75  0.789474  0.769231\n",
       "Naive Bayes              0.808511       0.75  0.789474  0.769231\n",
       "Random Forest            0.808511       0.80  0.761905  0.780488\n",
       "K-Nearest Neighbor       0.723404       0.65  0.684211  0.666667"
      ]
     },
     "execution_count": 68,
     "metadata": {},
     "output_type": "execute_result"
    }
   ],
   "source": [
    "#* TODO - sort the order by...???\n",
    "#* TODO - maybe this would be good for Plotly express or Streamlit for interaction and sorting by different columns???\n",
    "\n",
    "# Sort by highest accuracy\n",
    "df_model_sort_by_accuracy = df_model.sort_values(\n",
    "    by = 'Accuracy', \n",
    "    ascending = False)\n",
    "df_model_sort_by_accuracy"
   ]
  },
  {
   "attachments": {},
   "cell_type": "markdown",
   "metadata": {},
   "source": [
    "# [DATA VIZ] Bar chart"
   ]
  },
  {
   "cell_type": "code",
   "execution_count": 69,
   "metadata": {},
   "outputs": [
    {
     "data": {
      "image/png": "[encoded data removed]",
      "text/plain": [
       "<Figure size 432x288 with 1 Axes>"
      ]
     },
     "metadata": {
      "needs_background": "light"
     },
     "output_type": "display_data"
    },
    {
     "data": {
      "text/plain": [
       "<Figure size 720x864 with 0 Axes>"
      ]
     },
     "metadata": {},
     "output_type": "display_data"
    }
   ],
   "source": [
    "#* TODO - maybe this would be good for Plotly express or Streamlit for interaction\n",
    "\n",
    "# Set to horizontal bar chart\n",
    "ax = df_model_sort_by_accuracy.plot.barh()\n",
    "\n",
    "# Create legend\n",
    "ax.legend(\n",
    "    ncol = len(models.keys() ), \n",
    "    bbox_to_anchor = (0, 1.1), \n",
    "    loc = 'lower left', \n",
    "    prop = {'size': 10}\n",
    ")\n",
    "\n",
    "# Add grid lines\n",
    "ax.xaxis.grid(True, which = 'major')\n",
    "\n",
    "# Add labels, change size\n",
    "plt.title('Binary classifiers sorted by highest accuracy')\n",
    "plt.xlabel('Accuracy')\n",
    "plt.ylabel('Binary classifier')\n",
    "plt.figure(figsize = (10,12) )\n",
    "plt.tight_layout()"
   ]
  },
  {
   "attachments": {},
   "cell_type": "markdown",
   "metadata": {},
   "source": [
    "# SAVE FOR LATER ~~~~~~~~~~~~~~~~~~~~~~~~~~~~~~~~"
   ]
  },
  {
   "cell_type": "code",
   "execution_count": 70,
   "metadata": {},
   "outputs": [],
   "source": [
    "# # Split the CDR into multiclass groups denoting the severity of the dementia\n",
    "# df['CDR'] = df['CDR'].apply(\n",
    "#     lambda x: 'non-demented' if x == 0.0 else (\n",
    "#         'very mild dementia' if x == 0.5 else(\n",
    "#             'mild dementia' if x == 1 else(\n",
    "#                 'moderate dementia' if x == 2 else 'unknown'))))"
   ]
  },
  {
   "attachments": {},
   "cell_type": "markdown",
   "metadata": {},
   "source": [
    "# FUTURE WORK\n",
    "Hypertuning? Grid search CV\n",
    "AUC?\n",
    "sensitivity vs specificity?\n",
    "MMSE VS CDR?\n",
    "age VS CDR?\n",
    "FEATURE importance\n",
    "graph predictions vs actual?\n",
    "\n",
    "NEXT:\n",
    "- Streamlit for later 5/16\n",
    "- can drop multiclass and drop hypertuning\n",
    "\n",
    "Final Report\n",
    "- for people to read, very detailed\n",
    "- no code\n",
    "- mainly text, graphs are fine"
   ]
  }
 ],
 "metadata": {
  "kernelspec": {
   "display_name": "data601-intro_to_DS_20220604",
   "language": "python",
   "name": "python3"
  },
  "language_info": {
   "codemirror_mode": {
    "name": "ipython",
    "version": 3
   },
   "file_extension": ".py",
   "mimetype": "text/x-python",
   "name": "python",
   "nbconvert_exporter": "python",
   "pygments_lexer": "ipython3",
   "version": "3.8.11"
  },
  "orig_nbformat": 4
 },
 "nbformat": 4,
 "nbformat_minor": 2
}
