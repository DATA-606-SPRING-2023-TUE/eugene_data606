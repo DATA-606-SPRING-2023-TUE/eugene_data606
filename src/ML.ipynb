{
 "cells": [
  {
   "attachments": {},
   "cell_type": "markdown",
   "metadata": {},
   "source": [
    "# PHASE 3: ???\n",
    "- TODO: fill in with Prof's description"
   ]
  },
  {
   "attachments": {},
   "cell_type": "markdown",
   "metadata": {},
   "source": [
    "# PLANNING\n",
    "\n",
    "DATA PREP\n",
    "- stratified split \n",
    "\n",
    "ML METHODS\n",
    "- Binary classification\n",
    "- Multiclass classification\n",
    "- KNN?\n",
    "\n",
    "EVALUATION\n",
    "- Confusion Matrix: TP, FP, TN, FN, FP\n",
    "  - Then F1 and stuff...????\n",
    "\n",
    "SOURCE\n",
    "- https://www.learndatasci.com/glossary/binary-classification/ "
   ]
  },
  {
   "attachments": {},
   "cell_type": "markdown",
   "metadata": {},
   "source": [
    "# IMPORTS"
   ]
  },
  {
   "cell_type": "code",
   "execution_count": null,
   "metadata": {},
   "outputs": [],
   "source": [
    "import pandas as pd\n",
    "import matplotlib.pyplot as plt"
   ]
  },
  {
   "cell_type": "code",
   "execution_count": null,
   "metadata": {},
   "outputs": [],
   "source": [
    "import sklearn"
   ]
  }
 ],
 "metadata": {
  "kernelspec": {
   "display_name": "data601-intro_to_DS_20220604",
   "language": "python",
   "name": "python3"
  },
  "language_info": {
   "name": "python",
   "version": "3.8.11"
  },
  "orig_nbformat": 4
 },
 "nbformat": 4,
 "nbformat_minor": 2
}
